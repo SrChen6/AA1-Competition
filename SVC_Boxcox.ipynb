{
 "cells": [
  {
   "cell_type": "code",
   "execution_count": 12,
   "id": "faf13ab7",
   "metadata": {},
   "outputs": [],
   "source": [
    "import pandas as pd\n",
    "import numpy as np\n",
    "\n",
    "from sklearn.svm import SVC\n",
    "\n",
    "from sklearn.preprocessing import StandardScaler\n",
    "from sklearn.model_selection import train_test_split"
   ]
  },
  {
   "cell_type": "markdown",
   "id": "bf1ee45d",
   "metadata": {},
   "source": [
    "## Loading data\n",
    "\n",
    "The data is that of the AA1 competition, but preprocessed to remove outliers and make boxcox transformations over variables. I will simply apply a standardizing scaling over the data.\n",
    "\n",
    "The variable to be predicted is \"target\" which is a binary variable, and it is unbalanced (there are more sick individuals than healthy individuals)."
   ]
  },
  {
   "cell_type": "code",
   "execution_count": 20,
   "id": "48f0bddd",
   "metadata": {},
   "outputs": [
    {
     "data": {
      "text/html": [
       "<div>\n",
       "<style scoped>\n",
       "    .dataframe tbody tr th:only-of-type {\n",
       "        vertical-align: middle;\n",
       "    }\n",
       "\n",
       "    .dataframe tbody tr th {\n",
       "        vertical-align: top;\n",
       "    }\n",
       "\n",
       "    .dataframe thead th {\n",
       "        text-align: right;\n",
       "    }\n",
       "</style>\n",
       "<table border=\"1\" class=\"dataframe\">\n",
       "  <thead>\n",
       "    <tr style=\"text-align: right;\">\n",
       "      <th></th>\n",
       "      <th>Unnamed: 0</th>\n",
       "      <th>Age</th>\n",
       "      <th>Female</th>\n",
       "      <th>TP</th>\n",
       "      <th>ALB</th>\n",
       "      <th>AR</th>\n",
       "      <th>target</th>\n",
       "      <th>DBratio</th>\n",
       "      <th>TB</th>\n",
       "      <th>DB</th>\n",
       "      <th>Alkphos</th>\n",
       "      <th>Sgpt</th>\n",
       "      <th>Sgot</th>\n",
       "    </tr>\n",
       "  </thead>\n",
       "  <tbody>\n",
       "    <tr>\n",
       "      <th>0</th>\n",
       "      <td>0</td>\n",
       "      <td>48</td>\n",
       "      <td>0</td>\n",
       "      <td>7.0</td>\n",
       "      <td>2.4</td>\n",
       "      <td>0.52</td>\n",
       "      <td>0</td>\n",
       "      <td>0.511111</td>\n",
       "      <td>0.919515</td>\n",
       "      <td>0.720861</td>\n",
       "      <td>1.300462</td>\n",
       "      <td>1.474638</td>\n",
       "      <td>1.944906</td>\n",
       "    </tr>\n",
       "    <tr>\n",
       "      <th>1</th>\n",
       "      <td>1</td>\n",
       "      <td>39</td>\n",
       "      <td>0</td>\n",
       "      <td>7.4</td>\n",
       "      <td>4.3</td>\n",
       "      <td>1.38</td>\n",
       "      <td>0</td>\n",
       "      <td>0.473684</td>\n",
       "      <td>0.514218</td>\n",
       "      <td>-0.107360</td>\n",
       "      <td>1.293045</td>\n",
       "      <td>1.736198</td>\n",
       "      <td>1.916642</td>\n",
       "    </tr>\n",
       "    <tr>\n",
       "      <th>2</th>\n",
       "      <td>2</td>\n",
       "      <td>23</td>\n",
       "      <td>0</td>\n",
       "      <td>6.2</td>\n",
       "      <td>3.1</td>\n",
       "      <td>1.00</td>\n",
       "      <td>0</td>\n",
       "      <td>0.300000</td>\n",
       "      <td>0.000000</td>\n",
       "      <td>-1.502881</td>\n",
       "      <td>1.296045</td>\n",
       "      <td>1.732173</td>\n",
       "      <td>1.956686</td>\n",
       "    </tr>\n",
       "    <tr>\n",
       "      <th>3</th>\n",
       "      <td>3</td>\n",
       "      <td>42</td>\n",
       "      <td>1</td>\n",
       "      <td>6.2</td>\n",
       "      <td>3.2</td>\n",
       "      <td>1.06</td>\n",
       "      <td>0</td>\n",
       "      <td>0.285714</td>\n",
       "      <td>-0.406539</td>\n",
       "      <td>-2.172204</td>\n",
       "      <td>1.289529</td>\n",
       "      <td>1.704551</td>\n",
       "      <td>1.958526</td>\n",
       "    </tr>\n",
       "    <tr>\n",
       "      <th>4</th>\n",
       "      <td>4</td>\n",
       "      <td>52</td>\n",
       "      <td>1</td>\n",
       "      <td>6.9</td>\n",
       "      <td>3.3</td>\n",
       "      <td>0.90</td>\n",
       "      <td>1</td>\n",
       "      <td>0.166667</td>\n",
       "      <td>-0.617158</td>\n",
       "      <td>-3.565640</td>\n",
       "      <td>1.294465</td>\n",
       "      <td>1.393071</td>\n",
       "      <td>1.518669</td>\n",
       "    </tr>\n",
       "  </tbody>\n",
       "</table>\n",
       "</div>"
      ],
      "text/plain": [
       "   Unnamed: 0  Age  Female   TP  ALB    AR  target   DBratio        TB  \\\n",
       "0           0   48       0  7.0  2.4  0.52       0  0.511111  0.919515   \n",
       "1           1   39       0  7.4  4.3  1.38       0  0.473684  0.514218   \n",
       "2           2   23       0  6.2  3.1  1.00       0  0.300000  0.000000   \n",
       "3           3   42       1  6.2  3.2  1.06       0  0.285714 -0.406539   \n",
       "4           4   52       1  6.9  3.3  0.90       1  0.166667 -0.617158   \n",
       "\n",
       "         DB   Alkphos      Sgpt      Sgot  \n",
       "0  0.720861  1.300462  1.474638  1.944906  \n",
       "1 -0.107360  1.293045  1.736198  1.916642  \n",
       "2 -1.502881  1.296045  1.732173  1.956686  \n",
       "3 -2.172204  1.289529  1.704551  1.958526  \n",
       "4 -3.565640  1.294465  1.393071  1.518669  "
      ]
     },
     "execution_count": 20,
     "metadata": {},
     "output_type": "execute_result"
    }
   ],
   "source": [
    "data = pd.read_csv(\"boxcox_ILDS.csv\", delimiter = \",\", )\n",
    "data.head()"
   ]
  },
  {
   "cell_type": "code",
   "execution_count": 21,
   "id": "a504d34e",
   "metadata": {},
   "outputs": [
    {
     "data": {
      "text/plain": [
       "Index(['Age', 'Female', 'TP', 'ALB', 'AR', 'target', 'DBratio', 'TB', 'DB',\n",
       "       'Alkphos', 'Sgpt', 'Sgot'],\n",
       "      dtype='object')"
      ]
     },
     "execution_count": 21,
     "metadata": {},
     "output_type": "execute_result"
    }
   ],
   "source": [
    "data = data.drop(columns = \"Unnamed: 0\")\n",
    "data.describe()\n",
    "data.columns"
   ]
  },
  {
   "cell_type": "code",
   "execution_count": 18,
   "id": "16890a27",
   "metadata": {},
   "outputs": [
    {
     "ename": "TypeError",
     "evalue": "'str' object cannot be interpreted as an integer",
     "output_type": "error",
     "traceback": [
      "\u001b[0;31m---------------------------------------------------------------------------\u001b[0m",
      "\u001b[0;31mTypeError\u001b[0m                                 Traceback (most recent call last)",
      "Cell \u001b[0;32mIn [18], line 1\u001b[0m\n\u001b[0;32m----> 1\u001b[0m X \u001b[38;5;241m=\u001b[39m \u001b[43mnp\u001b[49m\u001b[38;5;241;43m.\u001b[39;49m\u001b[43mndarray\u001b[49m\u001b[43m(\u001b[49m\u001b[43mdata\u001b[49m\u001b[38;5;241;43m.\u001b[39;49m\u001b[43mloc\u001b[49m\u001b[43m[\u001b[49m\u001b[43m:\u001b[49m\u001b[43m,\u001b[49m\u001b[43m \u001b[49m\u001b[43mdata\u001b[49m\u001b[38;5;241;43m.\u001b[39;49m\u001b[43mcolumns\u001b[49m\u001b[43m \u001b[49m\u001b[38;5;241;43m!=\u001b[39;49m\u001b[43m \u001b[49m\u001b[38;5;124;43m\"\u001b[39;49m\u001b[38;5;124;43mtarget\u001b[39;49m\u001b[38;5;124;43m\"\u001b[39;49m\u001b[43m]\u001b[49m\u001b[43m)\u001b[49m\n\u001b[1;32m      2\u001b[0m y \u001b[38;5;241m=\u001b[39m np\u001b[38;5;241m.\u001b[39mndarray(data[\u001b[38;5;124m\"\u001b[39m\u001b[38;5;124mtarget\u001b[39m\u001b[38;5;124m\"\u001b[39m])\n\u001b[1;32m      4\u001b[0m \u001b[38;5;28;01mdef\u001b[39;00m \u001b[38;5;21mpreprocess\u001b[39m (X, y, scaler \u001b[38;5;241m=\u001b[39m \u001b[38;5;28;01mNone\u001b[39;00m):\n",
      "\u001b[0;31mTypeError\u001b[0m: 'str' object cannot be interpreted as an integer"
     ]
    }
   ],
   "source": [
    "X = np.ndarray(data.loc[:, data.columns != \"target\"])\n",
    "y = np.ndarray(data[\"target\"])\n",
    "\n",
    "def preprocess (X, y, scaler = None):\n",
    "    if scaler == None:\n",
    "        scaler = StandardScaler()\n",
    "        X_scale = scaler.fit_transform(X)\n",
    "    else:\n",
    "        X_scale = scaler.transform(X)\n",
    "    return X_scale, y, scaler\n",
    "\n",
    "X_train, X_test, y_train, y_test = train_test_split(X, y, random_state = 42)\n"
   ]
  }
 ],
 "metadata": {
  "kernelspec": {
   "display_name": "Python 3 (ipykernel)",
   "language": "python",
   "name": "python3"
  },
  "language_info": {
   "codemirror_mode": {
    "name": "ipython",
    "version": 3
   },
   "file_extension": ".py",
   "mimetype": "text/x-python",
   "name": "python",
   "nbconvert_exporter": "python",
   "pygments_lexer": "ipython3",
   "version": "3.11.2"
  }
 },
 "nbformat": 4,
 "nbformat_minor": 5
}
