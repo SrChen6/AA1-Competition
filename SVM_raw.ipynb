{
 "cells": [
  {
   "cell_type": "code",
   "execution_count": 1,
   "id": "cebdc7b5",
   "metadata": {},
   "outputs": [],
   "source": [
    "import warnings\n",
    "warnings.filterwarnings('ignore')\n",
    "\n",
    "from time import time\n",
    "from datetime import timedelta\n",
    "\n",
    "import pandas as pd\n",
    "import seaborn as sns\n",
    "import numpy as np\n",
    "\n",
    "from dython.nominal import associations\n",
    "from dython.nominal import correlation_ratio\n",
    "from dython.nominal import cramers_v\n",
    "\n",
    "from scipy.stats import chi2_contingency \n",
    "from scipy.stats import pearsonr \n",
    "\n",
    "from sklearn.metrics import confusion_matrix, \\\n",
    "                  classification_report, accuracy_score,  precision_score, recall_score, f1_score\n",
    "\n",
    "from sklearn.preprocessing import minmax_scale\n",
    "\n",
    "from sklearn.svm import LinearSVR, SVR, SVC\n",
    "from sklearn.neighbors import KNeighborsRegressor\n",
    "\n",
    "from sklearn.datasets import fetch_lfw_people\n",
    "from sklearn.model_selection import train_test_split, cross_validate\n",
    "\n",
    "from sklearn.decomposition import PCA\n",
    "from sklearn.preprocessing import StandardScaler\n",
    "from sklearn.neural_network import MLPClassifier\n",
    "from sklearn.model_selection import cross_val_score\n",
    "from sklearn.model_selection import GridSearchCV\n",
    "from sklearn.metrics import classification_report\n",
    "\n",
    "from matplotlib import pyplot as plt "
   ]
  },
  {
   "cell_type": "code",
   "execution_count": 2,
   "id": "ab71c636",
   "metadata": {},
   "outputs": [],
   "source": [
    "def confusion(true, pred):\n",
    "    \"\"\"\n",
    "    Function for pretty printing confusion matrices\n",
    "    \"\"\"\n",
    "    true.name = 'target'\n",
    "    pred.name = 'predicted'\n",
    "    cm = pd.crosstab(true.reset_index(drop=True), pred.reset_index(drop=True))\n",
    "    cm = cm[cm.index]\n",
    "    return cm"
   ]
  },
  {
   "cell_type": "code",
   "execution_count": 3,
   "id": "468aa379",
   "metadata": {},
   "outputs": [],
   "source": [
    "results_df = pd.DataFrame(index=[], columns= ['Accuracy', 'F1 Macro', 'Precision Macro', 'Recall Macro'])"
   ]
  },
  {
   "cell_type": "code",
   "execution_count": 4,
   "id": "06542a55",
   "metadata": {},
   "outputs": [
    {
     "data": {
      "text/plain": [
       "(462, 11)"
      ]
     },
     "execution_count": 4,
     "metadata": {},
     "output_type": "execute_result"
    }
   ],
   "source": [
    "ILDS = pd.read_csv(\"train_features_ILDS.csv\", delimiter=',')\n",
    "\n",
    "ILDS.columns = ['Age', 'Female', 'TB', 'DB', 'Alkphos', 'Sgpt', 'Sgot', 'TP', 'ALB', 'AR']\n",
    "ILDS['Female'] = ILDS['Female'].astype('category')\n",
    "ILDS['target'] = pd.read_csv(\"train_labels_ILDS.csv\", delimiter=',')\n",
    "\n",
    "ILDS.shape"
   ]
  },
  {
   "cell_type": "code",
   "execution_count": 5,
   "id": "b8d8bce5",
   "metadata": {},
   "outputs": [],
   "source": [
    "X = ILDS.loc[:, ILDS.columns != 'target']\n",
    "y = ILDS['target']\n",
    "\n",
    "X_train, X_test, y_train, y_test = train_test_split(X, y, test_size=0.33, random_state=42)\n",
    "X_train, X_val, y_train, y_val = train_test_split(X_train, y_train, test_size=0.2, random_state=42)"
   ]
  },
  {
   "cell_type": "markdown",
   "id": "93f8d1db",
   "metadata": {},
   "source": [
    "# Polynomial"
   ]
  },
  {
   "cell_type": "markdown",
   "id": "57645953",
   "metadata": {},
   "source": [
    "Degree 3"
   ]
  },
  {
   "cell_type": "code",
   "execution_count": 6,
   "id": "f14e7798",
   "metadata": {},
   "outputs": [
    {
     "data": {
      "text/html": [
       "<div>\n",
       "<style scoped>\n",
       "    .dataframe tbody tr th:only-of-type {\n",
       "        vertical-align: middle;\n",
       "    }\n",
       "\n",
       "    .dataframe tbody tr th {\n",
       "        vertical-align: top;\n",
       "    }\n",
       "\n",
       "    .dataframe thead th {\n",
       "        text-align: right;\n",
       "    }\n",
       "</style>\n",
       "<table border=\"1\" class=\"dataframe\">\n",
       "  <thead>\n",
       "    <tr style=\"text-align: right;\">\n",
       "      <th></th>\n",
       "      <th>Accuracy</th>\n",
       "      <th>F1 Macro</th>\n",
       "      <th>Precision Macro</th>\n",
       "      <th>Recall Macro</th>\n",
       "    </tr>\n",
       "  </thead>\n",
       "  <tbody>\n",
       "    <tr>\n",
       "      <th>SVM-poly-3</th>\n",
       "      <td>0.70849</td>\n",
       "      <td>0.414668</td>\n",
       "      <td>0.35569</td>\n",
       "      <td>0.497143</td>\n",
       "    </tr>\n",
       "  </tbody>\n",
       "</table>\n",
       "</div>"
      ],
      "text/plain": [
       "           Accuracy  F1 Macro Precision Macro Recall Macro\n",
       "SVM-poly-3  0.70849  0.414668         0.35569     0.497143"
      ]
     },
     "execution_count": 6,
     "metadata": {},
     "output_type": "execute_result"
    }
   ],
   "source": [
    "svm = SVC(kernel=\"poly\", degree = 3)\n",
    "svm.fit(X_train,y_train)\n",
    "y_pred = svm.predict(X_val)\n",
    "cross_val_results = pd.DataFrame(cross_validate(svm , X_train, y_train, cv = 5, \n",
    "                            scoring = ['accuracy', 'f1_macro', 'precision_macro', 'recall_macro'] ))\n",
    "\n",
    "\n",
    "results_df.loc['SVM-poly-3',:] = cross_val_results[['test_accuracy', 'test_f1_macro',\n",
    "       'test_precision_macro', 'test_recall_macro']].mean().values\n",
    "results_df"
   ]
  },
  {
   "cell_type": "markdown",
   "id": "9dbcf41c",
   "metadata": {},
   "source": [
    "Degree 7"
   ]
  },
  {
   "cell_type": "code",
   "execution_count": 7,
   "id": "9fe7b569",
   "metadata": {},
   "outputs": [
    {
     "data": {
      "text/html": [
       "<div>\n",
       "<style scoped>\n",
       "    .dataframe tbody tr th:only-of-type {\n",
       "        vertical-align: middle;\n",
       "    }\n",
       "\n",
       "    .dataframe tbody tr th {\n",
       "        vertical-align: top;\n",
       "    }\n",
       "\n",
       "    .dataframe thead th {\n",
       "        text-align: right;\n",
       "    }\n",
       "</style>\n",
       "<table border=\"1\" class=\"dataframe\">\n",
       "  <thead>\n",
       "    <tr style=\"text-align: right;\">\n",
       "      <th></th>\n",
       "      <th>Accuracy</th>\n",
       "      <th>F1 Macro</th>\n",
       "      <th>Precision Macro</th>\n",
       "      <th>Recall Macro</th>\n",
       "    </tr>\n",
       "  </thead>\n",
       "  <tbody>\n",
       "    <tr>\n",
       "      <th>SVM-poly-3</th>\n",
       "      <td>0.70849</td>\n",
       "      <td>0.414668</td>\n",
       "      <td>0.35569</td>\n",
       "      <td>0.497143</td>\n",
       "    </tr>\n",
       "    <tr>\n",
       "      <th>SVM-poly-7</th>\n",
       "      <td>0.712571</td>\n",
       "      <td>0.416074</td>\n",
       "      <td>0.356286</td>\n",
       "      <td>0.5</td>\n",
       "    </tr>\n",
       "  </tbody>\n",
       "</table>\n",
       "</div>"
      ],
      "text/plain": [
       "            Accuracy  F1 Macro Precision Macro Recall Macro\n",
       "SVM-poly-3   0.70849  0.414668         0.35569     0.497143\n",
       "SVM-poly-7  0.712571  0.416074        0.356286          0.5"
      ]
     },
     "execution_count": 7,
     "metadata": {},
     "output_type": "execute_result"
    }
   ],
   "source": [
    "svm = SVC(kernel=\"poly\", degree = 7)\n",
    "svm.fit(X_train,y_train)\n",
    "y_pred = svm.predict(X_val)\n",
    "cross_val_results = pd.DataFrame(cross_validate(svm , X_train, y_train, cv = 5, \n",
    "                            scoring = ['accuracy', 'f1_macro', 'precision_macro', 'recall_macro'] ))\n",
    "\n",
    "\n",
    "results_df.loc['SVM-poly-7',:] = cross_val_results[['test_accuracy', 'test_f1_macro',\n",
    "       'test_precision_macro', 'test_recall_macro']].mean().values\n",
    "results_df"
   ]
  },
  {
   "cell_type": "markdown",
   "id": "457a51b5",
   "metadata": {},
   "source": [
    "Degree 11"
   ]
  },
  {
   "cell_type": "code",
   "execution_count": 8,
   "id": "99b7d47b",
   "metadata": {},
   "outputs": [
    {
     "data": {
      "text/html": [
       "<div>\n",
       "<style scoped>\n",
       "    .dataframe tbody tr th:only-of-type {\n",
       "        vertical-align: middle;\n",
       "    }\n",
       "\n",
       "    .dataframe tbody tr th {\n",
       "        vertical-align: top;\n",
       "    }\n",
       "\n",
       "    .dataframe thead th {\n",
       "        text-align: right;\n",
       "    }\n",
       "</style>\n",
       "<table border=\"1\" class=\"dataframe\">\n",
       "  <thead>\n",
       "    <tr style=\"text-align: right;\">\n",
       "      <th></th>\n",
       "      <th>Accuracy</th>\n",
       "      <th>F1 Macro</th>\n",
       "      <th>Precision Macro</th>\n",
       "      <th>Recall Macro</th>\n",
       "    </tr>\n",
       "  </thead>\n",
       "  <tbody>\n",
       "    <tr>\n",
       "      <th>SVM-poly-3</th>\n",
       "      <td>0.70849</td>\n",
       "      <td>0.414668</td>\n",
       "      <td>0.35569</td>\n",
       "      <td>0.497143</td>\n",
       "    </tr>\n",
       "    <tr>\n",
       "      <th>SVM-poly-7</th>\n",
       "      <td>0.712571</td>\n",
       "      <td>0.416074</td>\n",
       "      <td>0.356286</td>\n",
       "      <td>0.5</td>\n",
       "    </tr>\n",
       "    <tr>\n",
       "      <th>SVM-poly-10</th>\n",
       "      <td>0.692245</td>\n",
       "      <td>0.409017</td>\n",
       "      <td>0.353267</td>\n",
       "      <td>0.485714</td>\n",
       "    </tr>\n",
       "  </tbody>\n",
       "</table>\n",
       "</div>"
      ],
      "text/plain": [
       "             Accuracy  F1 Macro Precision Macro Recall Macro\n",
       "SVM-poly-3    0.70849  0.414668         0.35569     0.497143\n",
       "SVM-poly-7   0.712571  0.416074        0.356286          0.5\n",
       "SVM-poly-10  0.692245  0.409017        0.353267     0.485714"
      ]
     },
     "execution_count": 8,
     "metadata": {},
     "output_type": "execute_result"
    }
   ],
   "source": [
    "svm = SVC(kernel=\"poly\", degree = 10)\n",
    "svm.fit(X_train,y_train)\n",
    "y_pred = svm.predict(X_val)\n",
    "cross_val_results = pd.DataFrame(cross_validate(svm , X_train, y_train, cv = 5, \n",
    "                            scoring = ['accuracy', 'f1_macro', 'precision_macro', 'recall_macro'] ))\n",
    "\n",
    "\n",
    "results_df.loc['SVM-poly-10',:] = cross_val_results[['test_accuracy', 'test_f1_macro',\n",
    "       'test_precision_macro', 'test_recall_macro']].mean().values\n",
    "results_df"
   ]
  },
  {
   "cell_type": "code",
   "execution_count": 9,
   "id": "f6fa274d",
   "metadata": {},
   "outputs": [
    {
     "data": {
      "text/html": [
       "<div>\n",
       "<style scoped>\n",
       "    .dataframe tbody tr th:only-of-type {\n",
       "        vertical-align: middle;\n",
       "    }\n",
       "\n",
       "    .dataframe tbody tr th {\n",
       "        vertical-align: top;\n",
       "    }\n",
       "\n",
       "    .dataframe thead th {\n",
       "        text-align: right;\n",
       "    }\n",
       "</style>\n",
       "<table border=\"1\" class=\"dataframe\">\n",
       "  <thead>\n",
       "    <tr style=\"text-align: right;\">\n",
       "      <th></th>\n",
       "      <th>Accuracy</th>\n",
       "      <th>F1 Macro</th>\n",
       "      <th>Precision Macro</th>\n",
       "      <th>Recall Macro</th>\n",
       "    </tr>\n",
       "  </thead>\n",
       "  <tbody>\n",
       "    <tr>\n",
       "      <th>SVM-poly-3</th>\n",
       "      <td>0.70849</td>\n",
       "      <td>0.414668</td>\n",
       "      <td>0.35569</td>\n",
       "      <td>0.497143</td>\n",
       "    </tr>\n",
       "    <tr>\n",
       "      <th>SVM-poly-7</th>\n",
       "      <td>0.712571</td>\n",
       "      <td>0.416074</td>\n",
       "      <td>0.356286</td>\n",
       "      <td>0.5</td>\n",
       "    </tr>\n",
       "    <tr>\n",
       "      <th>SVM-poly-10</th>\n",
       "      <td>0.692245</td>\n",
       "      <td>0.409017</td>\n",
       "      <td>0.353267</td>\n",
       "      <td>0.485714</td>\n",
       "    </tr>\n",
       "    <tr>\n",
       "      <th>SVM-sigmoid</th>\n",
       "      <td>0.647592</td>\n",
       "      <td>0.436161</td>\n",
       "      <td>0.405141</td>\n",
       "      <td>0.48</td>\n",
       "    </tr>\n",
       "  </tbody>\n",
       "</table>\n",
       "</div>"
      ],
      "text/plain": [
       "             Accuracy  F1 Macro Precision Macro Recall Macro\n",
       "SVM-poly-3    0.70849  0.414668         0.35569     0.497143\n",
       "SVM-poly-7   0.712571  0.416074        0.356286          0.5\n",
       "SVM-poly-10  0.692245  0.409017        0.353267     0.485714\n",
       "SVM-sigmoid  0.647592  0.436161        0.405141         0.48"
      ]
     },
     "execution_count": 9,
     "metadata": {},
     "output_type": "execute_result"
    }
   ],
   "source": [
    "svm = SVC(kernel=\"sigmoid\", degree = 3)\n",
    "svm.fit(X_train,y_train)\n",
    "y_pred = svm.predict(X_val)\n",
    "cross_val_results = pd.DataFrame(cross_validate(svm , X_train, y_train, cv = 5, \n",
    "                            scoring = ['accuracy', 'f1_macro', 'precision_macro', 'recall_macro'] ))\n",
    "\n",
    "\n",
    "results_df.loc['SVM-sigmoid',:] = cross_val_results[['test_accuracy', 'test_f1_macro',\n",
    "       'test_precision_macro', 'test_recall_macro']].mean().values\n",
    "results_df"
   ]
  },
  {
   "cell_type": "code",
   "execution_count": 10,
   "id": "6a4943cc",
   "metadata": {},
   "outputs": [],
   "source": [
    "ILDS_test = pd.read_csv(\"test_data_ILDS.csv\", delimiter=',', header = None)\n",
    "\n",
    "ILDS_test.columns = ['Age', 'Female', 'TB', 'DB', 'Alkphos', 'Sgpt', 'Sgot', 'TP', 'ALB', 'AR']\n",
    "\n",
    "X_test = ILDS_test.loc[:,:'AR']\n",
    "\n",
    "ILDS_test['Label'] = svm.predict(X_test)\n",
    "\n",
    "ILDS_test.head()\n",
    "\n",
    "ILDS_test.index = ILDS_test.index + 1\n",
    "ILDS_test.index.name = 'ID'\n",
    "\n",
    "ILDS_test['Label'].to_csv('SVM_raw.csv', index=True)"
   ]
  }
 ],
 "metadata": {
  "kernelspec": {
   "display_name": "Python 3",
   "language": "python",
   "name": "python3"
  },
  "language_info": {
   "codemirror_mode": {
    "name": "ipython",
    "version": 3
   },
   "file_extension": ".py",
   "mimetype": "text/x-python",
   "name": "python",
   "nbconvert_exporter": "python",
   "pygments_lexer": "ipython3",
   "version": "3.11.9"
  }
 },
 "nbformat": 4,
 "nbformat_minor": 5
}
