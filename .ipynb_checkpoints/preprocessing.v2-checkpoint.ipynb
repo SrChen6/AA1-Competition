{
 "cells": [
  {
   "cell_type": "markdown",
   "id": "0bf5a4ab",
   "metadata": {},
   "source": [
    "# Data preprocessing"
   ]
  },
  {
   "cell_type": "code",
   "execution_count": 2,
   "id": "4728ec01",
   "metadata": {},
   "outputs": [],
   "source": [
    "import numpy as np\n",
    "import matplotlib.pyplot as plt\n",
    "import seaborn as sn\n",
    "import pandas as pd\n",
    "from collections import Counter\n",
    "from IPython.core.interactiveshell import InteractiveShell\n",
    "InteractiveShell.ast_node_interactivity = \"all\"\n",
    "pd.set_option('display.precision', 3)"
   ]
  },
  {
   "cell_type": "code",
   "execution_count": 4,
   "id": "05a80a7c",
   "metadata": {},
   "outputs": [],
   "source": [
    "# Extra imports\n",
    "from pandas import read_csv\n",
    "from sklearn.neighbors import KNeighborsClassifier\n",
    "from sklearn.neighbors import LocalOutlierFactor\n",
    "from sklearn import preprocessing\n",
    "from pandas.plotting import scatter_matrix\n",
    "from scipy.stats import boxcox\n",
    "from statsmodels.genmod.generalized_linear_model import GLM"
   ]
  },
  {
   "cell_type": "markdown",
   "id": "99ed90df",
   "metadata": {},
   "source": [
    "## Reading CSV"
   ]
  },
  {
   "cell_type": "code",
   "execution_count": 103,
   "id": "80565608",
   "metadata": {},
   "outputs": [
    {
     "data": {
      "text/plain": [
       "(462, 10)"
      ]
     },
     "execution_count": 103,
     "metadata": {},
     "output_type": "execute_result"
    }
   ],
   "source": [
    "raw_ILDS = read_csv(\"train_features_ILDS.csv\", delimiter=',')\n",
    "labels = read_csv(\"train_labels_ILDS.csv\", delimiter=',')\n",
    "raw_ILDS.shape #tamany"
   ]
  },
  {
   "cell_type": "markdown",
   "id": "54186c71",
   "metadata": {},
   "source": [
    "Editing dataframe"
   ]
  },
  {
   "cell_type": "markdown",
   "id": "15ac6135",
   "metadata": {},
   "source": [
    "- Bilirubin (TB & DB): product of the degradation of hemoglobin. It should be processed by the liver and make it water-soluble to be expelled from the body. Direct Bilirubin is the Bilirubin processed by the liver, the Indirect one is the Bilirubin unprocessed, and the total is the sum of the two.\n",
    "- Alkaline Phosphotase (Alkphos): enzime that breaks down phosphate groups. It is everywhere, but more concentrated in the liver and bones. Liver damages can lead to an increased release of these enzimes.\n",
    "- Alamine Aminotransferase (Sgpt): enzime that participates in the metabolism of amino acids. Damages in the liver can lead to an increase of these enzimes.\n",
    "- Aspartate Aminotransferase (Sgot): enzime that participates in the metabolism of amino acids (just like Sgpt). Liver, heart or Muscle injuries can lead to an increase of concentration of these enzimes.\n",
    "- Total proteins (TP): total of proteins in blood. Problems in liver or kidneys may lead to a decrease of this concentration.\n",
    "- Albumin (ALB): keeps fluids inside blood vessels and transports substances. Problems in the liver may decrease its concentration, as this proteins is exclusively procused by the Liver.\n",
    "- Albumin to Globulin (A/R): low ratio may indicate liver problems"
   ]
  },
  {
   "cell_type": "code",
   "execution_count": 104,
   "id": "cac8440f",
   "metadata": {},
   "outputs": [
    {
     "data": {
      "text/html": [
       "<div>\n",
       "<style scoped>\n",
       "    .dataframe tbody tr th:only-of-type {\n",
       "        vertical-align: middle;\n",
       "    }\n",
       "\n",
       "    .dataframe tbody tr th {\n",
       "        vertical-align: top;\n",
       "    }\n",
       "\n",
       "    .dataframe thead th {\n",
       "        text-align: right;\n",
       "    }\n",
       "</style>\n",
       "<table border=\"1\" class=\"dataframe\">\n",
       "  <thead>\n",
       "    <tr style=\"text-align: right;\">\n",
       "      <th></th>\n",
       "      <th>Age</th>\n",
       "      <th>Female</th>\n",
       "      <th>TB</th>\n",
       "      <th>DB</th>\n",
       "      <th>Alkphos</th>\n",
       "      <th>Sgpt</th>\n",
       "      <th>Sgot</th>\n",
       "      <th>TP</th>\n",
       "      <th>ALB</th>\n",
       "      <th>AR</th>\n",
       "    </tr>\n",
       "  </thead>\n",
       "  <tbody>\n",
       "    <tr>\n",
       "      <th>0</th>\n",
       "      <td>48</td>\n",
       "      <td>0</td>\n",
       "      <td>4.5</td>\n",
       "      <td>2.3</td>\n",
       "      <td>282</td>\n",
       "      <td>13</td>\n",
       "      <td>74</td>\n",
       "      <td>7.0</td>\n",
       "      <td>2.4</td>\n",
       "      <td>0.52</td>\n",
       "    </tr>\n",
       "    <tr>\n",
       "      <th>1</th>\n",
       "      <td>39</td>\n",
       "      <td>0</td>\n",
       "      <td>1.9</td>\n",
       "      <td>0.9</td>\n",
       "      <td>180</td>\n",
       "      <td>42</td>\n",
       "      <td>62</td>\n",
       "      <td>7.4</td>\n",
       "      <td>4.3</td>\n",
       "      <td>1.38</td>\n",
       "    </tr>\n",
       "    <tr>\n",
       "      <th>2</th>\n",
       "      <td>23</td>\n",
       "      <td>0</td>\n",
       "      <td>1.0</td>\n",
       "      <td>0.3</td>\n",
       "      <td>212</td>\n",
       "      <td>41</td>\n",
       "      <td>80</td>\n",
       "      <td>6.2</td>\n",
       "      <td>3.1</td>\n",
       "      <td>1.00</td>\n",
       "    </tr>\n",
       "    <tr>\n",
       "      <th>3</th>\n",
       "      <td>42</td>\n",
       "      <td>1</td>\n",
       "      <td>0.7</td>\n",
       "      <td>0.2</td>\n",
       "      <td>152</td>\n",
       "      <td>35</td>\n",
       "      <td>81</td>\n",
       "      <td>6.2</td>\n",
       "      <td>3.2</td>\n",
       "      <td>1.06</td>\n",
       "    </tr>\n",
       "    <tr>\n",
       "      <th>4</th>\n",
       "      <td>52</td>\n",
       "      <td>1</td>\n",
       "      <td>0.6</td>\n",
       "      <td>0.1</td>\n",
       "      <td>194</td>\n",
       "      <td>10</td>\n",
       "      <td>12</td>\n",
       "      <td>6.9</td>\n",
       "      <td>3.3</td>\n",
       "      <td>0.90</td>\n",
       "    </tr>\n",
       "  </tbody>\n",
       "</table>\n",
       "</div>"
      ],
      "text/plain": [
       "   Age  Female   TB   DB  Alkphos  Sgpt  Sgot   TP  ALB    AR\n",
       "0   48       0  4.5  2.3      282    13    74  7.0  2.4  0.52\n",
       "1   39       0  1.9  0.9      180    42    62  7.4  4.3  1.38\n",
       "2   23       0  1.0  0.3      212    41    80  6.2  3.1  1.00\n",
       "3   42       1  0.7  0.2      152    35    81  6.2  3.2  1.06\n",
       "4   52       1  0.6  0.1      194    10    12  6.9  3.3  0.90"
      ]
     },
     "execution_count": 104,
     "metadata": {},
     "output_type": "execute_result"
    }
   ],
   "source": [
    "raw_ILDS.columns = ['Age', 'Female', 'TB', 'DB', 'Alkphos', 'Sgpt', \n",
    "                'Sgot', 'TP', 'ALB', 'AR']\n",
    "raw_ILDS.head()"
   ]
  },
  {
   "cell_type": "code",
   "execution_count": 105,
   "id": "02f37acf",
   "metadata": {},
   "outputs": [
    {
     "data": {
      "text/html": [
       "<div>\n",
       "<style scoped>\n",
       "    .dataframe tbody tr th:only-of-type {\n",
       "        vertical-align: middle;\n",
       "    }\n",
       "\n",
       "    .dataframe tbody tr th {\n",
       "        vertical-align: top;\n",
       "    }\n",
       "\n",
       "    .dataframe thead th {\n",
       "        text-align: right;\n",
       "    }\n",
       "</style>\n",
       "<table border=\"1\" class=\"dataframe\">\n",
       "  <thead>\n",
       "    <tr style=\"text-align: right;\">\n",
       "      <th></th>\n",
       "      <th>Age</th>\n",
       "      <th>Female</th>\n",
       "      <th>TB</th>\n",
       "      <th>DB</th>\n",
       "      <th>Alkphos</th>\n",
       "      <th>Sgpt</th>\n",
       "      <th>Sgot</th>\n",
       "      <th>TP</th>\n",
       "      <th>ALB</th>\n",
       "      <th>AR</th>\n",
       "    </tr>\n",
       "  </thead>\n",
       "  <tbody>\n",
       "    <tr>\n",
       "      <th>count</th>\n",
       "      <td>462.000</td>\n",
       "      <td>462.000</td>\n",
       "      <td>462.000</td>\n",
       "      <td>462.000</td>\n",
       "      <td>462.000</td>\n",
       "      <td>462.000</td>\n",
       "      <td>462.000</td>\n",
       "      <td>462.000</td>\n",
       "      <td>462.000</td>\n",
       "      <td>462.000</td>\n",
       "    </tr>\n",
       "    <tr>\n",
       "      <th>mean</th>\n",
       "      <td>44.892</td>\n",
       "      <td>0.242</td>\n",
       "      <td>3.277</td>\n",
       "      <td>1.445</td>\n",
       "      <td>279.714</td>\n",
       "      <td>73.952</td>\n",
       "      <td>94.571</td>\n",
       "      <td>6.421</td>\n",
       "      <td>3.108</td>\n",
       "      <td>0.942</td>\n",
       "    </tr>\n",
       "    <tr>\n",
       "      <th>std</th>\n",
       "      <td>16.325</td>\n",
       "      <td>0.429</td>\n",
       "      <td>6.121</td>\n",
       "      <td>2.678</td>\n",
       "      <td>211.487</td>\n",
       "      <td>164.499</td>\n",
       "      <td>202.027</td>\n",
       "      <td>1.053</td>\n",
       "      <td>0.793</td>\n",
       "      <td>0.318</td>\n",
       "    </tr>\n",
       "    <tr>\n",
       "      <th>min</th>\n",
       "      <td>4.000</td>\n",
       "      <td>0.000</td>\n",
       "      <td>0.400</td>\n",
       "      <td>0.100</td>\n",
       "      <td>75.000</td>\n",
       "      <td>10.000</td>\n",
       "      <td>11.000</td>\n",
       "      <td>2.700</td>\n",
       "      <td>0.900</td>\n",
       "      <td>0.300</td>\n",
       "    </tr>\n",
       "    <tr>\n",
       "      <th>25%</th>\n",
       "      <td>33.000</td>\n",
       "      <td>0.000</td>\n",
       "      <td>0.800</td>\n",
       "      <td>0.200</td>\n",
       "      <td>176.000</td>\n",
       "      <td>23.000</td>\n",
       "      <td>25.000</td>\n",
       "      <td>5.700</td>\n",
       "      <td>2.500</td>\n",
       "      <td>0.700</td>\n",
       "    </tr>\n",
       "    <tr>\n",
       "      <th>50%</th>\n",
       "      <td>45.000</td>\n",
       "      <td>0.000</td>\n",
       "      <td>1.000</td>\n",
       "      <td>0.300</td>\n",
       "      <td>208.000</td>\n",
       "      <td>34.000</td>\n",
       "      <td>41.000</td>\n",
       "      <td>6.500</td>\n",
       "      <td>3.100</td>\n",
       "      <td>0.910</td>\n",
       "    </tr>\n",
       "    <tr>\n",
       "      <th>75%</th>\n",
       "      <td>57.750</td>\n",
       "      <td>0.000</td>\n",
       "      <td>2.675</td>\n",
       "      <td>1.275</td>\n",
       "      <td>290.000</td>\n",
       "      <td>59.750</td>\n",
       "      <td>82.750</td>\n",
       "      <td>7.100</td>\n",
       "      <td>3.700</td>\n",
       "      <td>1.100</td>\n",
       "    </tr>\n",
       "    <tr>\n",
       "      <th>max</th>\n",
       "      <td>90.000</td>\n",
       "      <td>1.000</td>\n",
       "      <td>75.000</td>\n",
       "      <td>18.300</td>\n",
       "      <td>1630.000</td>\n",
       "      <td>2000.000</td>\n",
       "      <td>2946.000</td>\n",
       "      <td>9.500</td>\n",
       "      <td>5.500</td>\n",
       "      <td>2.800</td>\n",
       "    </tr>\n",
       "  </tbody>\n",
       "</table>\n",
       "</div>"
      ],
      "text/plain": [
       "           Age   Female       TB       DB   Alkphos      Sgpt      Sgot  \\\n",
       "count  462.000  462.000  462.000  462.000   462.000   462.000   462.000   \n",
       "mean    44.892    0.242    3.277    1.445   279.714    73.952    94.571   \n",
       "std     16.325    0.429    6.121    2.678   211.487   164.499   202.027   \n",
       "min      4.000    0.000    0.400    0.100    75.000    10.000    11.000   \n",
       "25%     33.000    0.000    0.800    0.200   176.000    23.000    25.000   \n",
       "50%     45.000    0.000    1.000    0.300   208.000    34.000    41.000   \n",
       "75%     57.750    0.000    2.675    1.275   290.000    59.750    82.750   \n",
       "max     90.000    1.000   75.000   18.300  1630.000  2000.000  2946.000   \n",
       "\n",
       "            TP      ALB       AR  \n",
       "count  462.000  462.000  462.000  \n",
       "mean     6.421    3.108    0.942  \n",
       "std      1.053    0.793    0.318  \n",
       "min      2.700    0.900    0.300  \n",
       "25%      5.700    2.500    0.700  \n",
       "50%      6.500    3.100    0.910  \n",
       "75%      7.100    3.700    1.100  \n",
       "max      9.500    5.500    2.800  "
      ]
     },
     "execution_count": 105,
     "metadata": {},
     "output_type": "execute_result"
    }
   ],
   "source": [
    "raw_ILDS.describe()"
   ]
  },
  {
   "cell_type": "code",
   "execution_count": 106,
   "id": "16ffe120",
   "metadata": {},
   "outputs": [
    {
     "data": {
      "text/plain": [
       "Female\n",
       "0    350\n",
       "1    112\n",
       "Name: count, dtype: int64"
      ]
     },
     "execution_count": 106,
     "metadata": {},
     "output_type": "execute_result"
    }
   ],
   "source": [
    "raw_ILDS['Female'].value_counts() "
   ]
  },
  {
   "cell_type": "markdown",
   "id": "bd245406",
   "metadata": {},
   "source": [
    "TODO: hi ha més homes que dones, podria anar bé una mica de resampling"
   ]
  },
  {
   "cell_type": "markdown",
   "id": "30a6591b",
   "metadata": {},
   "source": [
    "## Dealing with missing values"
   ]
  },
  {
   "cell_type": "code",
   "execution_count": 107,
   "id": "072033a1",
   "metadata": {},
   "outputs": [
    {
     "data": {
      "text/plain": [
       "Age\n",
       "False    461\n",
       "True       1\n",
       "Name: count, dtype: int64"
      ]
     },
     "execution_count": 107,
     "metadata": {},
     "output_type": "execute_result"
    }
   ],
   "source": [
    "(raw_ILDS.Age == 90).value_counts()"
   ]
  },
  {
   "cell_type": "markdown",
   "id": "a0c40ab9",
   "metadata": {},
   "source": [
    "### Age"
   ]
  },
  {
   "cell_type": "code",
   "execution_count": 108,
   "id": "b4e43614",
   "metadata": {},
   "outputs": [
    {
     "data": {
      "image/png": "[encoded data removed]",
      "text/plain": [
       "<Figure size 400x400 with 1 Axes>"
      ]
     },
     "metadata": {},
     "output_type": "display_data"
    }
   ],
   "source": [
    "raw_ILDS.Age.hist(figsize=(4,4));"
   ]
  },
  {
   "cell_type": "markdown",
   "id": "e640900f",
   "metadata": {},
   "source": [
    "### Total Bilirubin"
   ]
  },
  {
   "cell_type": "code",
   "execution_count": 109,
   "id": "33c5cd86",
   "metadata": {},
   "outputs": [
    {
     "data": {
      "image/png": "[encoded data removed]",
      "text/plain": [
       "<Figure size 400x400 with 1 Axes>"
      ]
     },
     "metadata": {},
     "output_type": "display_data"
    }
   ],
   "source": [
    "raw_ILDS.TB.hist(figsize=(4,4));"
   ]
  },
  {
   "cell_type": "code",
   "execution_count": 127,
   "id": "6d14331f",
   "metadata": {},
   "outputs": [
    {
     "data": {
      "text/plain": [
       "TB\n",
       "False    461\n",
       "True       1\n",
       "Name: count, dtype: int64"
      ]
     },
     "execution_count": 127,
     "metadata": {},
     "output_type": "execute_result"
    }
   ],
   "source": [
    "(raw_ILDS.TB==75).value_counts() # TODO: potser no és un missing value, i realment algú el tenia tan alt?"
   ]
  },
  {
   "cell_type": "markdown",
   "id": "038bf7eb",
   "metadata": {},
   "source": [
    "Seems like 75 is a _missing_ value, lets delete it"
   ]
  },
  {
   "cell_type": "code",
   "execution_count": 111,
   "id": "b075c2d5",
   "metadata": {},
   "outputs": [],
   "source": [
    "ILDS = raw_ILDS[raw_ILDS.TB!=75]"
   ]
  },
  {
   "cell_type": "code",
   "execution_count": 112,
   "id": "3c979dba",
   "metadata": {},
   "outputs": [
    {
     "data": {
      "image/png": "[encoded data removed]",
      "text/plain": [
       "<Figure size 400x400 with 1 Axes>"
      ]
     },
     "metadata": {},
     "output_type": "display_data"
    }
   ],
   "source": [
    "ILDS.TB.hist(figsize=(4,4)); "
   ]
  },
  {
   "cell_type": "markdown",
   "id": "3927bb58",
   "metadata": {},
   "source": [
    "### Direct Bilirubin"
   ]
  },
  {
   "cell_type": "code",
   "execution_count": 113,
   "id": "e626e130",
   "metadata": {},
   "outputs": [
    {
     "data": {
      "image/png": "[encoded data removed]",
      "text/plain": [
       "<Figure size 400x400 with 1 Axes>"
      ]
     },
     "metadata": {},
     "output_type": "display_data"
    }
   ],
   "source": [
    "raw_ILDS.DB.hist(figsize=(4,4));"
   ]
  },
  {
   "cell_type": "markdown",
   "id": "ae7ac8bb",
   "metadata": {},
   "source": [
    "### Alkaline Phosphotase"
   ]
  },
  {
   "cell_type": "code",
   "execution_count": 114,
   "id": "4bd2b946",
   "metadata": {},
   "outputs": [
    {
     "data": {
      "image/png": "[encoded data removed]",
      "text/plain": [
       "<Figure size 400x400 with 1 Axes>"
      ]
     },
     "metadata": {},
     "output_type": "display_data"
    }
   ],
   "source": [
    "raw_ILDS.Alkphos.hist(figsize=(4,4));"
   ]
  },
  {
   "cell_type": "markdown",
   "id": "da9624ad",
   "metadata": {},
   "source": [
    "### Alamine Aminotransferase"
   ]
  },
  {
   "cell_type": "code",
   "execution_count": 115,
   "id": "43a9e483",
   "metadata": {},
   "outputs": [
    {
     "data": {
      "image/png": "[encoded data removed]",
      "text/plain": [
       "<Figure size 400x400 with 1 Axes>"
      ]
     },
     "metadata": {},
     "output_type": "display_data"
    }
   ],
   "source": [
    "raw_ILDS.Sgpt.hist(figsize=(4,4));"
   ]
  },
  {
   "cell_type": "markdown",
   "id": "b04b1abb",
   "metadata": {},
   "source": [
    "Sgpt==2000 may be a missing value"
   ]
  },
  {
   "cell_type": "code",
   "execution_count": 116,
   "id": "98b39779",
   "metadata": {},
   "outputs": [
    {
     "data": {
      "text/plain": [
       "Sgpt\n",
       "False    461\n",
       "True       1\n",
       "Name: count, dtype: int64"
      ]
     },
     "execution_count": 116,
     "metadata": {},
     "output_type": "execute_result"
    }
   ],
   "source": [
    "(raw_ILDS.Sgpt==2000).value_counts()"
   ]
  },
  {
   "cell_type": "code",
   "execution_count": 117,
   "id": "becc1ae1",
   "metadata": {},
   "outputs": [],
   "source": [
    "ILDS = ILDS[ILDS.Sgpt != 2000]"
   ]
  },
  {
   "cell_type": "code",
   "execution_count": 118,
   "id": "0e10bca1",
   "metadata": {},
   "outputs": [
    {
     "data": {
      "image/png": "[encoded data removed]",
      "text/plain": [
       "<Figure size 400x400 with 1 Axes>"
      ]
     },
     "metadata": {},
     "output_type": "display_data"
    }
   ],
   "source": [
    "ILDS.Sgpt.hist(figsize=(4,4));"
   ]
  },
  {
   "cell_type": "markdown",
   "id": "a18303c4",
   "metadata": {},
   "source": [
    "### Aspartate Aminotransferase"
   ]
  },
  {
   "cell_type": "code",
   "execution_count": 119,
   "id": "c6218fd9",
   "metadata": {},
   "outputs": [
    {
     "data": {
      "image/png": "[encoded data removed]",
      "text/plain": [
       "<Figure size 400x400 with 1 Axes>"
      ]
     },
     "metadata": {},
     "output_type": "display_data"
    }
   ],
   "source": [
    "raw_ILDS.Sgot.hist(figsize=(4,4));"
   ]
  },
  {
   "cell_type": "code",
   "execution_count": null,
   "id": "d40cc95b",
   "metadata": {},
   "outputs": [
    {
     "data": {
      "text/plain": [
       "Sgot\n",
       "False    461\n",
       "True       1\n",
       "Name: count, dtype: int64"
      ]
     },
     "execution_count": 120,
     "metadata": {},
     "output_type": "execute_result"
    }
   ],
   "source": [
    "(raw_ILDS.Sgot==2946).value_counts() # TODO: potser no és un missing value is eliminar només aquest valor no fa absolutament res?"
   ]
  },
  {
   "cell_type": "code",
   "execution_count": 121,
   "id": "c59bd99f",
   "metadata": {},
   "outputs": [],
   "source": [
    "ILDS = ILDS[ILDS.Sgot != 2946]"
   ]
  },
  {
   "cell_type": "code",
   "execution_count": 122,
   "id": "9af70247",
   "metadata": {},
   "outputs": [
    {
     "data": {
      "image/png": "[encoded data removed]",
      "text/plain": [
       "<Figure size 400x400 with 1 Axes>"
      ]
     },
     "metadata": {},
     "output_type": "display_data"
    }
   ],
   "source": [
    "ILDS.Sgot.hist(figsize=(4,4));"
   ]
  },
  {
   "cell_type": "markdown",
   "id": "580033e2",
   "metadata": {},
   "source": [
    "### Total Protiens"
   ]
  },
  {
   "cell_type": "code",
   "execution_count": 123,
   "id": "d4aaabac",
   "metadata": {},
   "outputs": [
    {
     "data": {
      "image/png": "[encoded data removed]",
      "text/plain": [
       "<Figure size 400x400 with 1 Axes>"
      ]
     },
     "metadata": {},
     "output_type": "display_data"
    }
   ],
   "source": [
    "raw_ILDS.TP.hist(figsize=(4,4));"
   ]
  },
  {
   "cell_type": "markdown",
   "id": "6c333575",
   "metadata": {},
   "source": [
    "### Albumin"
   ]
  },
  {
   "cell_type": "code",
   "execution_count": 124,
   "id": "3a863c5b",
   "metadata": {},
   "outputs": [
    {
     "data": {
      "image/png": "[encoded data removed]",
      "text/plain": [
       "<Figure size 400x400 with 1 Axes>"
      ]
     },
     "metadata": {},
     "output_type": "display_data"
    }
   ],
   "source": [
    "raw_ILDS.ALB.hist(figsize=(4,4));"
   ]
  },
  {
   "cell_type": "markdown",
   "id": "6acddaf6",
   "metadata": {},
   "source": [
    "### Albumin and Globulin Ratio"
   ]
  },
  {
   "cell_type": "code",
   "execution_count": 126,
   "id": "fc2108de",
   "metadata": {},
   "outputs": [
    {
     "data": {
      "image/png": "[encoded data removed]",
      "text/plain": [
       "<Figure size 400x400 with 1 Axes>"
      ]
     },
     "metadata": {},
     "output_type": "display_data"
    }
   ],
   "source": [
    "raw_ILDS.AR.hist(figsize=(4,4));"
   ]
  }
 ],
 "metadata": {
  "kernelspec": {
   "display_name": "Python 3 (ipykernel)",
   "language": "python",
   "name": "python3"
  },
  "language_info": {
   "codemirror_mode": {
    "name": "ipython",
    "version": 3
   },
   "file_extension": ".py",
   "mimetype": "text/x-python",
   "name": "python",
   "nbconvert_exporter": "python",
   "pygments_lexer": "ipython3",
   "version": "3.11.2"
  }
 },
 "nbformat": 4,
 "nbformat_minor": 5
}
