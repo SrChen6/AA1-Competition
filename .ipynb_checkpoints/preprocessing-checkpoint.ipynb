{
 "cells": [
  {
   "cell_type": "markdown",
   "id": "0bf5a4ab",
   "metadata": {},
   "source": [
    "# Data preprocessing"
   ]
  },
  {
   "cell_type": "code",
   "execution_count": 1,
   "id": "4728ec01",
   "metadata": {},
   "outputs": [],
   "source": [
    "import numpy as np\n",
    "import matplotlib.pyplot as plt\n",
    "import seaborn as sn\n",
    "import pandas as pd\n",
    "from collections import Counter\n",
    "from IPython.core.interactiveshell import InteractiveShell\n",
    "InteractiveShell.ast_node_interactivity = \"all\"\n",
    "pd.set_option('display.precision', 3)"
   ]
  },
  {
   "cell_type": "code",
   "execution_count": 2,
   "id": "05a80a7c",
   "metadata": {},
   "outputs": [],
   "source": [
    "# Extra imports\n",
    "from pandas import read_csv\n",
    "from sklearn.neighbors import KNeighborsClassifier\n",
    "from sklearn.neighbors import LocalOutlierFactor\n",
    "from sklearn import preprocessing\n",
    "from pandas.plotting import scatter_matrix\n",
    "from scipy.stats import boxcox\n",
    "from statsmodels.genmod.generalized_linear_model import GLM"
   ]
  },
  {
   "cell_type": "markdown",
   "id": "99ed90df",
   "metadata": {},
   "source": [
    "## Reading CSV"
   ]
  },
  {
   "cell_type": "code",
   "execution_count": 3,
   "id": "80565608",
   "metadata": {},
   "outputs": [
    {
     "data": {
      "text/plain": [
       "(462, 11)"
      ]
     },
     "execution_count": 3,
     "metadata": {},
     "output_type": "execute_result"
    }
   ],
   "source": [
    "raw_ILDS = read_csv(\"train_features_ILDS.csv\", delimiter=',')\n",
    "raw_ILDS.columns = ['Age', 'Female', 'TB', 'DB', 'Alkphos', 'Sgpt', \n",
    "                    'Sgot', 'TP', 'ALB', 'AR']\n",
    "raw_ILDS['target'] = read_csv(\"train_labels_ILDS.csv\", delimiter=',')\n",
    "\n",
    "raw_ILDS.shape #tamany"
   ]
  },
  {
   "cell_type": "markdown",
   "id": "54186c71",
   "metadata": {},
   "source": [
    "Editing dataframe"
   ]
  },
  {
   "cell_type": "markdown",
   "id": "15ac6135",
   "metadata": {},
   "source": [
    "- Bilirubin (TB & DB): product of the degradation of hemoglobin. It should be processed by the liver and make it water-soluble to be expelled from the body. Direct Bilirubin is the Bilirubin processed by the liver, the Indirect one is the Bilirubin unprocessed, and the total is the sum of the two.\n",
    "- Alkaline Phosphotase (Alkphos): enzime that breaks down phosphate groups. It is everywhere, but more concentrated in the liver and bones. Liver damages can lead to an increased release of these enzimes.\n",
    "- Alamine Aminotransferase (Sgpt): enzime that participates in the metabolism of amino acids. Damages in the liver can lead to an increase of these enzimes.\n",
    "- Aspartate Aminotransferase (Sgot): enzime that participates in the metabolism of amino acids (just like Sgpt). Liver, heart or Muscle injuries can lead to an increase of concentration of these enzimes.\n",
    "- Total proteins (TP): total of proteins in blood. Problems in liver or kidneys may lead to a decrease of this concentration.\n",
    "- Albumin (ALB): keeps fluids inside blood vessels and transports substances. Problems in the liver may decrease its concentration, as this proteins is exclusively procused by the Liver.\n",
    "- Albumin to Globulin (A/R): low ratio may indicate liver problems"
   ]
  },
  {
   "cell_type": "code",
   "execution_count": 4,
   "id": "cac8440f",
   "metadata": {},
   "outputs": [
    {
     "ename": "ValueError",
     "evalue": "Length mismatch: Expected axis has 11 elements, new values have 10 elements",
     "output_type": "error",
     "traceback": [
      "\u001b[0;31m---------------------------------------------------------------------------\u001b[0m",
      "\u001b[0;31mValueError\u001b[0m                                Traceback (most recent call last)",
      "Cell \u001b[0;32mIn [4], line 1\u001b[0m\n\u001b[0;32m----> 1\u001b[0m \u001b[43mraw_ILDS\u001b[49m\u001b[38;5;241;43m.\u001b[39;49m\u001b[43mcolumns\u001b[49m \u001b[38;5;241m=\u001b[39m [\u001b[38;5;124m'\u001b[39m\u001b[38;5;124mAge\u001b[39m\u001b[38;5;124m'\u001b[39m, \u001b[38;5;124m'\u001b[39m\u001b[38;5;124mFemale\u001b[39m\u001b[38;5;124m'\u001b[39m, \u001b[38;5;124m'\u001b[39m\u001b[38;5;124mTB\u001b[39m\u001b[38;5;124m'\u001b[39m, \u001b[38;5;124m'\u001b[39m\u001b[38;5;124mDB\u001b[39m\u001b[38;5;124m'\u001b[39m, \u001b[38;5;124m'\u001b[39m\u001b[38;5;124mAlkphos\u001b[39m\u001b[38;5;124m'\u001b[39m, \u001b[38;5;124m'\u001b[39m\u001b[38;5;124mSgpt\u001b[39m\u001b[38;5;124m'\u001b[39m, \n\u001b[1;32m      2\u001b[0m                 \u001b[38;5;124m'\u001b[39m\u001b[38;5;124mSgot\u001b[39m\u001b[38;5;124m'\u001b[39m, \u001b[38;5;124m'\u001b[39m\u001b[38;5;124mTP\u001b[39m\u001b[38;5;124m'\u001b[39m, \u001b[38;5;124m'\u001b[39m\u001b[38;5;124mALB\u001b[39m\u001b[38;5;124m'\u001b[39m, \u001b[38;5;124m'\u001b[39m\u001b[38;5;124mAR\u001b[39m\u001b[38;5;124m'\u001b[39m]\n\u001b[1;32m      3\u001b[0m raw_ILDS\u001b[38;5;241m.\u001b[39mhead()\n",
      "File \u001b[0;32m~/.local/lib/python3.11/site-packages/pandas/core/generic.py:6313\u001b[0m, in \u001b[0;36mNDFrame.__setattr__\u001b[0;34m(self, name, value)\u001b[0m\n\u001b[1;32m   6311\u001b[0m \u001b[38;5;28;01mtry\u001b[39;00m:\n\u001b[1;32m   6312\u001b[0m     \u001b[38;5;28mobject\u001b[39m\u001b[38;5;241m.\u001b[39m\u001b[38;5;21m__getattribute__\u001b[39m(\u001b[38;5;28mself\u001b[39m, name)\n\u001b[0;32m-> 6313\u001b[0m     \u001b[38;5;28;01mreturn\u001b[39;00m \u001b[38;5;28;43mobject\u001b[39;49m\u001b[38;5;241;43m.\u001b[39;49m\u001b[38;5;21;43m__setattr__\u001b[39;49m\u001b[43m(\u001b[49m\u001b[38;5;28;43mself\u001b[39;49m\u001b[43m,\u001b[49m\u001b[43m \u001b[49m\u001b[43mname\u001b[49m\u001b[43m,\u001b[49m\u001b[43m \u001b[49m\u001b[43mvalue\u001b[49m\u001b[43m)\u001b[49m\n\u001b[1;32m   6314\u001b[0m \u001b[38;5;28;01mexcept\u001b[39;00m \u001b[38;5;167;01mAttributeError\u001b[39;00m:\n\u001b[1;32m   6315\u001b[0m     \u001b[38;5;28;01mpass\u001b[39;00m\n",
      "File \u001b[0;32mproperties.pyx:69\u001b[0m, in \u001b[0;36mpandas._libs.properties.AxisProperty.__set__\u001b[0;34m()\u001b[0m\n",
      "File \u001b[0;32m~/.local/lib/python3.11/site-packages/pandas/core/generic.py:814\u001b[0m, in \u001b[0;36mNDFrame._set_axis\u001b[0;34m(self, axis, labels)\u001b[0m\n\u001b[1;32m    809\u001b[0m \u001b[38;5;250m\u001b[39m\u001b[38;5;124;03m\"\"\"\u001b[39;00m\n\u001b[1;32m    810\u001b[0m \u001b[38;5;124;03mThis is called from the cython code when we set the `index` attribute\u001b[39;00m\n\u001b[1;32m    811\u001b[0m \u001b[38;5;124;03mdirectly, e.g. `series.index = [1, 2, 3]`.\u001b[39;00m\n\u001b[1;32m    812\u001b[0m \u001b[38;5;124;03m\"\"\"\u001b[39;00m\n\u001b[1;32m    813\u001b[0m labels \u001b[38;5;241m=\u001b[39m ensure_index(labels)\n\u001b[0;32m--> 814\u001b[0m \u001b[38;5;28;43mself\u001b[39;49m\u001b[38;5;241;43m.\u001b[39;49m\u001b[43m_mgr\u001b[49m\u001b[38;5;241;43m.\u001b[39;49m\u001b[43mset_axis\u001b[49m\u001b[43m(\u001b[49m\u001b[43maxis\u001b[49m\u001b[43m,\u001b[49m\u001b[43m \u001b[49m\u001b[43mlabels\u001b[49m\u001b[43m)\u001b[49m\n\u001b[1;32m    815\u001b[0m \u001b[38;5;28mself\u001b[39m\u001b[38;5;241m.\u001b[39m_clear_item_cache()\n",
      "File \u001b[0;32m~/.local/lib/python3.11/site-packages/pandas/core/internals/managers.py:238\u001b[0m, in \u001b[0;36mBaseBlockManager.set_axis\u001b[0;34m(self, axis, new_labels)\u001b[0m\n\u001b[1;32m    236\u001b[0m \u001b[38;5;28;01mdef\u001b[39;00m \u001b[38;5;21mset_axis\u001b[39m(\u001b[38;5;28mself\u001b[39m, axis: AxisInt, new_labels: Index) \u001b[38;5;241m-\u001b[39m\u001b[38;5;241m>\u001b[39m \u001b[38;5;28;01mNone\u001b[39;00m:\n\u001b[1;32m    237\u001b[0m     \u001b[38;5;66;03m# Caller is responsible for ensuring we have an Index object.\u001b[39;00m\n\u001b[0;32m--> 238\u001b[0m     \u001b[38;5;28;43mself\u001b[39;49m\u001b[38;5;241;43m.\u001b[39;49m\u001b[43m_validate_set_axis\u001b[49m\u001b[43m(\u001b[49m\u001b[43maxis\u001b[49m\u001b[43m,\u001b[49m\u001b[43m \u001b[49m\u001b[43mnew_labels\u001b[49m\u001b[43m)\u001b[49m\n\u001b[1;32m    239\u001b[0m     \u001b[38;5;28mself\u001b[39m\u001b[38;5;241m.\u001b[39maxes[axis] \u001b[38;5;241m=\u001b[39m new_labels\n",
      "File \u001b[0;32m~/.local/lib/python3.11/site-packages/pandas/core/internals/base.py:98\u001b[0m, in \u001b[0;36mDataManager._validate_set_axis\u001b[0;34m(self, axis, new_labels)\u001b[0m\n\u001b[1;32m     95\u001b[0m     \u001b[38;5;28;01mpass\u001b[39;00m\n\u001b[1;32m     97\u001b[0m \u001b[38;5;28;01melif\u001b[39;00m new_len \u001b[38;5;241m!=\u001b[39m old_len:\n\u001b[0;32m---> 98\u001b[0m     \u001b[38;5;28;01mraise\u001b[39;00m \u001b[38;5;167;01mValueError\u001b[39;00m(\n\u001b[1;32m     99\u001b[0m         \u001b[38;5;124mf\u001b[39m\u001b[38;5;124m\"\u001b[39m\u001b[38;5;124mLength mismatch: Expected axis has \u001b[39m\u001b[38;5;132;01m{\u001b[39;00mold_len\u001b[38;5;132;01m}\u001b[39;00m\u001b[38;5;124m elements, new \u001b[39m\u001b[38;5;124m\"\u001b[39m\n\u001b[1;32m    100\u001b[0m         \u001b[38;5;124mf\u001b[39m\u001b[38;5;124m\"\u001b[39m\u001b[38;5;124mvalues have \u001b[39m\u001b[38;5;132;01m{\u001b[39;00mnew_len\u001b[38;5;132;01m}\u001b[39;00m\u001b[38;5;124m elements\u001b[39m\u001b[38;5;124m\"\u001b[39m\n\u001b[1;32m    101\u001b[0m     )\n",
      "\u001b[0;31mValueError\u001b[0m: Length mismatch: Expected axis has 11 elements, new values have 10 elements"
     ]
    }
   ],
   "source": [
    "raw_ILDS.head()"
   ]
  },
  {
   "cell_type": "code",
   "execution_count": null,
   "id": "02f37acf",
   "metadata": {},
   "outputs": [],
   "source": [
    "raw_ILDS.describe()"
   ]
  },
  {
   "cell_type": "code",
   "execution_count": null,
   "id": "16ffe120",
   "metadata": {},
   "outputs": [],
   "source": [
    "raw_ILDS['Female'].value_counts() "
   ]
  },
  {
   "cell_type": "code",
   "execution_count": null,
   "id": "1eb29674",
   "metadata": {},
   "outputs": [],
   "source": [
    "train_labels[raw_ILDS['Female'] == 1].value_counts()"
   ]
  },
  {
   "cell_type": "code",
   "execution_count": null,
   "id": "add4984d",
   "metadata": {},
   "outputs": [],
   "source": [
    "train_labels[raw_ILDS['Female'] == 0].value_counts()"
   ]
  },
  {
   "cell_type": "markdown",
   "id": "bd245406",
   "metadata": {},
   "source": [
    "TODO: hi ha més homes que dones, podria anar bé una mica de resampling.\n",
    "\n",
    "TODO2: També ocorreix que hi ha més persones sanes que malaltes. Podríem provar de fer resampling de les dues coses, prioritzant arreglar el desbalanceig en els labels."
   ]
  },
  {
   "cell_type": "markdown",
   "id": "255d7ceb",
   "metadata": {},
   "source": [
    "## Creating new variables\n",
    "\n",
    "Si és necessari, creem les variables extres abans de fer res. Jo volia fer una variable que fos Indirect Bilirubin, per veure quanta Bilirubina no está processada pel fetge.\n",
    "\n",
    "Nota: Com el mínim és un valor negatiu, clarament hi ha mínim 1 error en les dades de TB / DB. Després hi ha un cas molt extrem on la bilirubina no processada és molt alta.\n",
    "\n",
    "TODO: Jo processaria això de la següent manera: en els casos on TB < DB, definim $DB := TB$. "
   ]
  },
  {
   "cell_type": "code",
   "execution_count": null,
   "id": "f508b51b",
   "metadata": {},
   "outputs": [],
   "source": [
    "raw_ILDS['IB'] = raw_ILDS['TB'] - raw_ILDS['DB']\n",
    "raw_ILDS['IB'].describe()"
   ]
  },
  {
   "cell_type": "markdown",
   "id": "30a6591b",
   "metadata": {},
   "source": [
    "## Dealing with missing values\n",
    "\n",
    "NOTA: Com lo dels histogrames ho fem molt sovint se m'ha ocorregut fer una funció per fer l'histograma i el boxplot. Així agilitzem el procés. No he tocat res més del que vas fer."
   ]
  },
  {
   "cell_type": "code",
   "execution_count": null,
   "id": "2fb9b35b",
   "metadata": {},
   "outputs": [],
   "source": [
    "def histbox (data, column: str, n_bins: int = 10) -> None:\n",
    "    fig, axes = plt.subplots(1, 2, gridspec_kw = {'width_ratios': [1, 4]}, figsize=(9,4))\n",
    "    sn.boxplot(data = data, x = 'target', y = column, hue = 'Female', column = column, ax = axes[0])\n",
    "    sn.histplot(data = data, x = column, y = 'target', hue = 'Female', ax = axes[1], bins = n_bins)"
   ]
  },
  {
   "cell_type": "code",
   "execution_count": null,
   "id": "072033a1",
   "metadata": {},
   "outputs": [],
   "source": [
    "(raw_ILDS.Age == 90).value_counts()"
   ]
  },
  {
   "cell_type": "markdown",
   "id": "a0c40ab9",
   "metadata": {},
   "source": [
    "### Age"
   ]
  },
  {
   "cell_type": "code",
   "execution_count": null,
   "id": "f98d02e3",
   "metadata": {},
   "outputs": [],
   "source": [
    "histbox(raw_ILDS, \"Age\", 16)"
   ]
  },
  {
   "cell_type": "markdown",
   "id": "e640900f",
   "metadata": {},
   "source": [
    "### Total Bilirubin"
   ]
  },
  {
   "cell_type": "code",
   "execution_count": null,
   "id": "da044407",
   "metadata": {},
   "outputs": [],
   "source": [
    "histbox(raw_ILDS, \"TB\", 16) # TODO2: Una transformació logarítmica potser és millor."
   ]
  },
  {
   "cell_type": "code",
   "execution_count": null,
   "id": "6d14331f",
   "metadata": {},
   "outputs": [],
   "source": [
    "(raw_ILDS.TB==75).value_counts() # TODO: potser no és un missing value, i realment algú el tenia tan alt?"
   ]
  },
  {
   "cell_type": "markdown",
   "id": "038bf7eb",
   "metadata": {},
   "source": [
    "Seems like 75 is a _missing_ value, lets delete it"
   ]
  },
  {
   "cell_type": "code",
   "execution_count": null,
   "id": "b075c2d5",
   "metadata": {},
   "outputs": [],
   "source": [
    "ILDS = raw_ILDS[raw_ILDS.TB!=75]"
   ]
  },
  {
   "cell_type": "code",
   "execution_count": null,
   "id": "3c979dba",
   "metadata": {},
   "outputs": [],
   "source": [
    "histbox(raw_ILDS, \"TB\", 16)"
   ]
  },
  {
   "cell_type": "code",
   "execution_count": null,
   "id": "3033a19f",
   "metadata": {},
   "outputs": [],
   "source": [
    "raw_ILDS['log_TB'] = np.log(raw_ILDS['TB'])\n",
    "histbox(raw_ILDS, \"log_TB\", 16)"
   ]
  },
  {
   "cell_type": "markdown",
   "id": "3927bb58",
   "metadata": {},
   "source": [
    "### Direct Bilirubin"
   ]
  },
  {
   "cell_type": "code",
   "execution_count": null,
   "id": "12fccc14",
   "metadata": {},
   "outputs": [],
   "source": [
    "histbox(raw_ILDS, \"DB\", 16) # TODO: Logarithmic també?"
   ]
  },
  {
   "cell_type": "code",
   "execution_count": null,
   "id": "e51e0de1",
   "metadata": {},
   "outputs": [],
   "source": [
    "raw_ILDS['log_DB'] = np.log(raw_ILDS['DB'])\n",
    "histbox(raw_ILDS, \"log_DB\", 16)"
   ]
  },
  {
   "cell_type": "markdown",
   "id": "64e1c80a",
   "metadata": {},
   "source": [
    "### Indirect Bilirubin"
   ]
  },
  {
   "cell_type": "code",
   "execution_count": null,
   "id": "4d442c4e",
   "metadata": {},
   "outputs": [],
   "source": [
    "histbox(raw_ILDS, \"IB\", 16) # TODO: Logarithmic també?"
   ]
  },
  {
   "cell_type": "code",
   "execution_count": null,
   "id": "40a698f8",
   "metadata": {},
   "outputs": [],
   "source": [
    "raw_ILDS['log_IB'] = np.log(raw_ILDS['IB'])\n",
    "histbox(raw_ILDS, \"log_IB\", 16)"
   ]
  },
  {
   "cell_type": "markdown",
   "id": "ae7ac8bb",
   "metadata": {},
   "source": [
    "### Alkaline Phosphotase"
   ]
  },
  {
   "cell_type": "code",
   "execution_count": null,
   "id": "4e992a1a",
   "metadata": {},
   "outputs": [],
   "source": [
    "histbox(raw_ILDS, \"Alkphos\", 16) # TODO: Logarithmic també?"
   ]
  },
  {
   "cell_type": "code",
   "execution_count": null,
   "id": "b3c402c1",
   "metadata": {},
   "outputs": [],
   "source": [
    "raw_ILDS['log_Alkphos'] = np.log(raw_ILDS['Alkphos'])\n",
    "histbox(raw_ILDS, \"log_Alkphos\", 16)"
   ]
  },
  {
   "cell_type": "markdown",
   "id": "da9624ad",
   "metadata": {},
   "source": [
    "### Alamine Aminotransferase"
   ]
  },
  {
   "cell_type": "code",
   "execution_count": null,
   "id": "41928539",
   "metadata": {},
   "outputs": [],
   "source": [
    "histbox(raw_ILDS, \"Sgpt\", 16) # TODO: Logarithmic també?"
   ]
  },
  {
   "cell_type": "markdown",
   "id": "b04b1abb",
   "metadata": {},
   "source": [
    "Sgpt==2000 may be a missing value"
   ]
  },
  {
   "cell_type": "code",
   "execution_count": null,
   "id": "98b39779",
   "metadata": {},
   "outputs": [],
   "source": [
    "(raw_ILDS.Sgpt==2000).value_counts()"
   ]
  },
  {
   "cell_type": "code",
   "execution_count": null,
   "id": "becc1ae1",
   "metadata": {},
   "outputs": [],
   "source": [
    "ILDS = ILDS[ILDS.Sgpt != 2000]"
   ]
  },
  {
   "cell_type": "code",
   "execution_count": null,
   "id": "0e10bca1",
   "metadata": {},
   "outputs": [],
   "source": [
    "histbox(raw_ILDS, \"Sgpt\", 16)"
   ]
  },
  {
   "cell_type": "markdown",
   "id": "a18303c4",
   "metadata": {},
   "source": [
    "### Aspartate Aminotransferase"
   ]
  },
  {
   "cell_type": "code",
   "execution_count": null,
   "id": "f0d6d279",
   "metadata": {},
   "outputs": [],
   "source": [
    "histbox(raw_ILDS, \"Sgot\", 16) # TODO: Res sembla una normal :D"
   ]
  },
  {
   "cell_type": "code",
   "execution_count": null,
   "id": "d40cc95b",
   "metadata": {},
   "outputs": [],
   "source": [
    "(raw_ILDS.Sgot==2946).value_counts() # TODO: potser no és un missing value is eliminar només aquest valor no fa absolutament res?"
   ]
  },
  {
   "cell_type": "code",
   "execution_count": null,
   "id": "c59bd99f",
   "metadata": {},
   "outputs": [],
   "source": [
    "ILDS = ILDS[ILDS.Sgot != 2946]"
   ]
  },
  {
   "cell_type": "code",
   "execution_count": null,
   "id": "9af70247",
   "metadata": {},
   "outputs": [],
   "source": [
    "histbox(raw_ILDS, \"Sgot\", 16)"
   ]
  },
  {
   "cell_type": "markdown",
   "id": "580033e2",
   "metadata": {},
   "source": [
    "### Total Protiens"
   ]
  },
  {
   "cell_type": "code",
   "execution_count": null,
   "id": "5aa82286",
   "metadata": {},
   "outputs": [],
   "source": [
    "histbox(raw_ILDS, \"TP\", 16)"
   ]
  },
  {
   "cell_type": "markdown",
   "id": "6c333575",
   "metadata": {},
   "source": [
    "### Albumin"
   ]
  },
  {
   "cell_type": "code",
   "execution_count": null,
   "id": "1ebbbd19",
   "metadata": {},
   "outputs": [],
   "source": [
    "histbox(raw_ILDS, \"ALB\", 16) # Cool"
   ]
  },
  {
   "cell_type": "markdown",
   "id": "6acddaf6",
   "metadata": {},
   "source": [
    "### Albumin and Globulin Ratio"
   ]
  },
  {
   "cell_type": "code",
   "execution_count": null,
   "id": "b3d5b08f",
   "metadata": {},
   "outputs": [],
   "source": [
    "histbox(raw_ILDS, \"AR\", 16) # TODO: Logarithmic també?"
   ]
  }
 ],
 "metadata": {
  "kernelspec": {
   "display_name": "Python 3 (ipykernel)",
   "language": "python",
   "name": "python3"
  },
  "language_info": {
   "codemirror_mode": {
    "name": "ipython",
    "version": 3
   },
   "file_extension": ".py",
   "mimetype": "text/x-python",
   "name": "python",
   "nbconvert_exporter": "python",
   "pygments_lexer": "ipython3",
   "version": "3.11.2"
  }
 },
 "nbformat": 4,
 "nbformat_minor": 5
}
